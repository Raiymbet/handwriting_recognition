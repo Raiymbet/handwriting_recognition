{
 "cells": [
  {
   "cell_type": "code",
   "execution_count": 1,
   "metadata": {},
   "outputs": [
    {
     "name": "stderr",
     "output_type": "stream",
     "text": [
      "Using TensorFlow backend.\n"
     ]
    }
   ],
   "source": [
    "'''Trains a simple convnet on the MNIST dataset.\n",
    "Gets to 99.25% test accuracy after 12 epochs\n",
    "(there is still a lot of margin for parameter tuning).\n",
    "16 seconds per epoch on a GRID K520 GPU.\n",
    "'''\n",
    "\n",
    "from __future__ import print_function\n",
    "import keras\n",
    "from keras.datasets import mnist\n",
    "from keras.models import Sequential\n",
    "from keras.layers import Dense, Dropout, Flatten\n",
    "from keras.layers import Conv2D, MaxPooling2D\n",
    "from keras import backend as K\n",
    "import cv2, os, glob, random\n",
    "from keras.models import load_model\n",
    "from keras.preprocessing.image import ImageDataGenerator\n",
    "from keras.callbacks import ModelCheckpoint\n",
    "from keras.layers import Dense, Activation,Conv2D, MaxPooling2D,AveragePooling2D,Flatten,Dropout,BatchNormalization\n"
   ]
  },
  {
   "cell_type": "code",
   "execution_count": 15,
   "metadata": {},
   "outputs": [],
   "source": [
    "import matplotlib.pyplot as plt"
   ]
  },
  {
   "cell_type": "code",
   "execution_count": null,
   "metadata": {},
   "outputs": [],
   "source": [
    "img = cv2.imread(\"test/0/8226970.jpg\")\n",
    "#img = cv2.resize(img, (224,224))\n",
    "print(img.shape)\n",
    "cv2.imshow(\"img\",img)\n",
    "cv2.waitKey(0)\n",
    "cv2.destroyAllWindows()"
   ]
  },
  {
   "cell_type": "code",
   "execution_count": 2,
   "metadata": {},
   "outputs": [
    {
     "name": "stdout",
     "output_type": "stream",
     "text": [
      "Found 7569 images belonging to 10 classes.\n",
      "Found 1340 images belonging to 10 classes.\n"
     ]
    }
   ],
   "source": [
    "train_data_dir = 'train'\n",
    "validation_data_dir = 'test'\n",
    "\n",
    "epochs = 10\n",
    "batch_size = 4\n",
    "\n",
    "img_width, img_height = 512, 64\n",
    "input_shape = (img_height, img_width,1)\n",
    "num_classes = 10\n",
    "\n",
    "nb_train_samples = 0\n",
    "for c in range(0,42):\n",
    "    class_dir = os.path.join(train_data_dir,str(c))\n",
    "    all_files = glob.glob(class_dir+\"/*.jpg\")\n",
    "    for j, full_path in enumerate(all_files):\n",
    "        nb_train_samples += 1\n",
    "\n",
    "\n",
    "nb_validation_samples = 0\n",
    "for c in range(0,42):\n",
    "    class_dir = os.path.join(validation_data_dir,str(c))\n",
    "    all_files = glob.glob(class_dir+\"/*.jpg\")\n",
    "    for j, full_path in enumerate(all_files):\n",
    "        nb_validation_samples += 1\n",
    "\n",
    "\n",
    "\n",
    "train_datagen = ImageDataGenerator(\n",
    "    rescale=1./255,\n",
    "    #shear_range=0.1,\n",
    "    #zoom_range=0.1,\n",
    "    #height_shift_range=0.1,\n",
    "    #width_shift_range=0.1,\n",
    "    #rotation_range=10,\n",
    "    #horizontal_flip=True\n",
    "    )\n",
    "\n",
    "test_datagen = ImageDataGenerator(rescale=1. / 255,\n",
    "                                 #horizontal_flip=True\n",
    "                                 )\n",
    "\n",
    "train_generator = train_datagen.flow_from_directory(\n",
    "    train_data_dir,\n",
    "    target_size=(img_height,img_width),\n",
    "    color_mode = \"grayscale\",\n",
    "    #color_mode=\"rgb\",\n",
    "    batch_size=batch_size,\n",
    "    class_mode='categorical')\n",
    "\n",
    "validation_generator = test_datagen.flow_from_directory(\n",
    "     validation_data_dir,\n",
    "    target_size=(img_height,img_width),\n",
    "    color_mode = \"grayscale\",\n",
    "    #color_mode=\"rgb\",\n",
    "    batch_size=batch_size,\n",
    "    class_mode='categorical')\n",
    "\n",
    "filepath=\"weights/weights-improvement-{epoch:02d}-{val_acc:.2f}.hdf5\"\n",
    "checkpoint = ModelCheckpoint(filepath, monitor='val_acc', verbose=1, save_best_only=False)\n",
    "callbacks_list = [checkpoint]\n",
    "\n",
    "\n"
   ]
  },
  {
   "cell_type": "code",
   "execution_count": 3,
   "metadata": {},
   "outputs": [],
   "source": [
    "model = Sequential()\n",
    "model.add(Conv2D(32, kernel_size=(3, 3),\n",
    "                 activation='relu',\n",
    "                 input_shape=input_shape))\n",
    "\n",
    "model.add(Conv2D(64, (3, 3), activation='relu'))\n",
    "\n",
    "model.add(MaxPooling2D(pool_size=(2, 2)))\n",
    "model.add(Dropout(0.25))\n",
    "\n",
    "model.add(Flatten())\n",
    "model.add(Dense(128, activation='relu'))\n",
    "model.add(Dropout(0.5))\n",
    "model.add(Dense(num_classes, activation='softmax'))\n",
    "\n",
    "model.compile(loss=keras.losses.categorical_crossentropy,\n",
    "              optimizer=keras.optimizers.Adadelta(),\n",
    "              metrics=['accuracy'])"
   ]
  },
  {
   "cell_type": "code",
   "execution_count": 4,
   "metadata": {},
   "outputs": [
    {
     "name": "stdout",
     "output_type": "stream",
     "text": [
      "_________________________________________________________________\n",
      "Layer (type)                 Output Shape              Param #   \n",
      "=================================================================\n",
      "conv2d_1 (Conv2D)            (None, 62, 510, 32)       320       \n",
      "_________________________________________________________________\n",
      "conv2d_2 (Conv2D)            (None, 60, 508, 64)       18496     \n",
      "_________________________________________________________________\n",
      "max_pooling2d_1 (MaxPooling2 (None, 30, 254, 64)       0         \n",
      "_________________________________________________________________\n",
      "dropout_1 (Dropout)          (None, 30, 254, 64)       0         \n",
      "_________________________________________________________________\n",
      "flatten_1 (Flatten)          (None, 487680)            0         \n",
      "_________________________________________________________________\n",
      "dense_1 (Dense)              (None, 128)               62423168  \n",
      "_________________________________________________________________\n",
      "dropout_2 (Dropout)          (None, 128)               0         \n",
      "_________________________________________________________________\n",
      "dense_2 (Dense)              (None, 10)                1290      \n",
      "=================================================================\n",
      "Total params: 62,443,274\n",
      "Trainable params: 62,443,274\n",
      "Non-trainable params: 0\n",
      "_________________________________________________________________\n"
     ]
    }
   ],
   "source": [
    "model.summary()"
   ]
  },
  {
   "cell_type": "code",
   "execution_count": null,
   "metadata": {},
   "outputs": [],
   "source": [
    "# model = keras.applications.mobilenet.MobileNet(include_top=True, input_shape = (img_height,img_width,1), weights=None,classes = num_classes)\n",
    "model = keras.applications.xception.Xception(include_top=True, input_shape = (img_height,img_width,3), weights=None,classes = num_classes)\n",
    "adadelta = keras.optimizers.Adadelta(lr=1.0, rho=0.95, epsilon=None, decay=0.0)\n",
    "model.compile(loss=keras.losses.categorical_crossentropy,\n",
    "              optimizer='Adam',\n",
    "              metrics=['accuracy'])\n",
    "model.summary()"
   ]
  },
  {
   "cell_type": "code",
   "execution_count": 5,
   "metadata": {},
   "outputs": [
    {
     "name": "stdout",
     "output_type": "stream",
     "text": [
      "Epoch 1/10\n",
      "1892/1892 [==============================] - 481s 254ms/step - loss: 2.3199 - acc: 0.1272 - val_loss: 2.2281 - val_acc: 0.1664\n",
      "\n",
      "Epoch 00001: saving model to weights/weights-improvement-01-0.17.hdf5\n",
      "Epoch 2/10\n",
      "1892/1892 [==============================] - 476s 251ms/step - loss: 2.1540 - acc: 0.2001 - val_loss: 2.0832 - val_acc: 0.1970\n",
      "\n",
      "Epoch 00002: saving model to weights/weights-improvement-02-0.20.hdf5\n",
      "Epoch 3/10\n",
      "1892/1892 [==============================] - 471s 249ms/step - loss: 1.8434 - acc: 0.3451 - val_loss: 2.1032 - val_acc: 0.1888\n",
      "\n",
      "Epoch 00003: saving model to weights/weights-improvement-03-0.19.hdf5\n",
      "Epoch 4/10\n",
      "1892/1892 [==============================] - 471s 249ms/step - loss: 1.2392 - acc: 0.5959 - val_loss: 2.0434 - val_acc: 0.2388\n",
      "\n",
      "Epoch 00004: saving model to weights/weights-improvement-04-0.24.hdf5\n",
      "Epoch 5/10\n",
      "1892/1892 [==============================] - 471s 249ms/step - loss: 0.6095 - acc: 0.8126 - val_loss: 2.2145 - val_acc: 0.2418\n",
      "\n",
      "Epoch 00005: saving model to weights/weights-improvement-05-0.24.hdf5\n",
      "Epoch 6/10\n",
      "1892/1892 [==============================] - 471s 249ms/step - loss: 0.2475 - acc: 0.9273 - val_loss: 2.6754 - val_acc: 0.2082\n",
      "\n",
      "Epoch 00006: saving model to weights/weights-improvement-06-0.21.hdf5\n",
      "Epoch 7/10\n",
      "1892/1892 [==============================] - 471s 249ms/step - loss: 0.1046 - acc: 0.9693 - val_loss: 3.2788 - val_acc: 0.2119\n",
      "\n",
      "Epoch 00007: saving model to weights/weights-improvement-07-0.21.hdf5\n",
      "Epoch 8/10\n",
      "1892/1892 [==============================] - 471s 249ms/step - loss: 0.0582 - acc: 0.9824 - val_loss: 3.4905 - val_acc: 0.2030\n",
      "\n",
      "Epoch 00008: saving model to weights/weights-improvement-08-0.20.hdf5\n",
      "Epoch 9/10\n",
      "1892/1892 [==============================] - 471s 249ms/step - loss: 0.0356 - acc: 0.9909 - val_loss: 3.6432 - val_acc: 0.2097\n",
      "\n",
      "Epoch 00009: saving model to weights/weights-improvement-09-0.21.hdf5\n",
      "Epoch 10/10\n",
      "1892/1892 [==============================] - 471s 249ms/step - loss: 0.0310 - acc: 0.9915 - val_loss: 4.4566 - val_acc: 0.1918\n",
      "\n",
      "Epoch 00010: saving model to weights/weights-improvement-10-0.19.hdf5\n"
     ]
    }
   ],
   "source": [
    "epochs = 10\n",
    "#model = keras.applications.mobilenet.MobileNet(include_top=True, input_shape = (img_height,img_width,1), weights=None,classes = num_classes)\n",
    "#model.compile(loss=keras.losses.categorical_crossentropy,optimizer='Adam',metrics=['accuracy'])\n",
    "history = model.fit_generator(train_generator,\n",
    "                    steps_per_epoch=nb_train_samples // batch_size, epochs=epochs, validation_data = validation_generator,validation_steps=nb_validation_samples // batch_size,shuffle=True,callbacks=callbacks_list,verbose=1)"
   ]
  },
  {
   "cell_type": "code",
   "execution_count": 16,
   "metadata": {},
   "outputs": [
    {
     "data": {
      "image/png": "[encoded data removed]",
      "text/plain": [
       "<Figure size 432x288 with 1 Axes>"
      ]
     },
     "metadata": {
      "needs_background": "light"
     },
     "output_type": "display_data"
    }
   ],
   "source": [
    "# Plot training & validation accuracy values\n",
    "plt.plot(history.history['acc'])\n",
    "plt.plot(history.history['val_acc'])\n",
    "plt.title('Model accuracy')\n",
    "plt.ylabel('Accuracy')\n",
    "plt.xlabel('Epoch')\n",
    "plt.legend(['Train', 'Test'], loc='upper left')\n",
    "plt.show()"
   ]
  },
  {
   "cell_type": "code",
   "execution_count": 17,
   "metadata": {},
   "outputs": [
    {
     "data": {
      "image/png": "[encoded data removed]",
      "text/plain": [
       "<Figure size 432x288 with 1 Axes>"
      ]
     },
     "metadata": {
      "needs_background": "light"
     },
     "output_type": "display_data"
    }
   ],
   "source": [
    "# Plot training & validation loss values\n",
    "plt.plot(history.history['loss'])\n",
    "plt.plot(history.history['val_loss'])\n",
    "plt.title('Model loss')\n",
    "plt.ylabel('Loss')\n",
    "plt.xlabel('Epoch')\n",
    "plt.legend(['Train', 'Test'], loc='upper left')\n",
    "plt.show()"
   ]
  },
  {
   "cell_type": "code",
   "execution_count": 21,
   "metadata": {},
   "outputs": [
    {
     "data": {
      "text/plain": [
       "10"
      ]
     },
     "execution_count": 21,
     "metadata": {},
     "output_type": "execute_result"
    }
   ],
   "source": [
    "num_classes"
   ]
  },
  {
   "cell_type": "code",
   "execution_count": 18,
   "metadata": {},
   "outputs": [
    {
     "name": "stdout",
     "output_type": "stream",
     "text": [
      "Epoch 1/10\n",
      "1892/1892 [==============================] - 204s 108ms/step - loss: 1.8535 - acc: 0.3071 - val_loss: 3.6490 - val_acc: 0.2754\n",
      "\n",
      "Epoch 00001: saving model to weights/weights-improvement-01-0.28.hdf5\n",
      "Epoch 2/10\n",
      "1892/1892 [==============================] - 198s 104ms/step - loss: 0.8583 - acc: 0.7106 - val_loss: 11.3146 - val_acc: 0.1015\n",
      "\n",
      "Epoch 00002: saving model to weights/weights-improvement-02-0.10.hdf5\n",
      "Epoch 3/10\n",
      "1892/1892 [==============================] - 212s 112ms/step - loss: 0.4458 - acc: 0.8574 - val_loss: 11.2688 - val_acc: 0.0963\n",
      "\n",
      "Epoch 00003: saving model to weights/weights-improvement-03-0.10.hdf5\n",
      "Epoch 4/10\n",
      "1892/1892 [==============================] - 194s 103ms/step - loss: 0.3154 - acc: 0.9027 - val_loss: 10.4801 - val_acc: 0.08433170 - acc: 0.902 - ETA: 9s - ETA: 6s - loss: 0.3182 - ETA: 5s - loss: 0.3178 \n",
      "\n",
      "Epoch 00004: saving model to weights/weights-improvement-04-0.08.hdf5\n",
      "Epoch 5/10\n",
      "1892/1892 [==============================] - 192s 101ms/step - loss: 0.2363 - acc: 0.9264 - val_loss: 0.3064 - val_acc: 0.8858\n",
      "\n",
      "Epoch 00005: saving model to weights/weights-improvement-05-0.89.hdf5\n",
      "Epoch 6/10\n",
      "1892/1892 [==============================] - 194s 102ms/step - loss: 0.1798 - acc: 0.9433 - val_loss: 0.4595 - val_acc: 0.8410\n",
      "\n",
      "Epoch 00006: saving model to weights/weights-improvement-06-0.84.hdf5\n",
      "Epoch 7/10\n",
      "1892/1892 [==============================] - 193s 102ms/step - loss: 0.1429 - acc: 0.9564 - val_loss: 0.1832 - val_acc: 0.9418\n",
      "\n",
      "Epoch 00007: saving model to weights/weights-improvement-07-0.94.hdf5\n",
      "Epoch 8/10\n",
      "1892/1892 [==============================] - 194s 102ms/step - loss: 0.1172 - acc: 0.9649 - val_loss: 0.1366 - val_acc: 0.9604\n",
      "\n",
      "Epoch 00008: saving model to weights/weights-improvement-08-0.96.hdf5\n",
      "Epoch 9/10\n",
      "1892/1892 [==============================] - 196s 104ms/step - loss: 0.1037 - acc: 0.9674 - val_loss: 0.1664 - val_acc: 0.9493\n",
      "\n",
      "Epoch 00009: saving model to weights/weights-improvement-09-0.95.hdf5\n",
      "Epoch 10/10\n",
      "1892/1892 [==============================] - 193s 102ms/step - loss: 0.0852 - acc: 0.9737 - val_loss: 0.1013 - val_acc: 0.9642\n",
      "\n",
      "Epoch 00010: saving model to weights/weights-improvement-10-0.96.hdf5\n"
     ]
    }
   ],
   "source": [
    "model = keras.applications.mobilenet.MobileNet(include_top=True, input_shape = (img_height,img_width,1), weights=None,classes = num_classes)\n",
    "# model = keras.applications.xception.Xception(include_top=True, input_shape = (img_height,img_width,3), weights=None,classes = num_classes)\n",
    "adadelta = keras.optimizers.Adadelta(lr=1.0, rho=0.95, epsilon=None, decay=0.0)\n",
    "model.compile(loss=keras.losses.categorical_crossentropy,\n",
    "              optimizer='Adam',\n",
    "              metrics=['accuracy'])\n",
    "# model.summary()\n",
    "epochs = 10\n",
    "#model = keras.applications.mobilenet.MobileNet(include_top=True, input_shape = (img_height,img_width,1), weights=None,classes = num_classes)\n",
    "#model.compile(loss=keras.losses.categorical_crossentropy,optimizer='Adam',metrics=['accuracy'])\n",
    "history = model.fit_generator(train_generator,\n",
    "                    steps_per_epoch=nb_train_samples // batch_size, epochs=epochs, validation_data = validation_generator,validation_steps=nb_validation_samples // batch_size,shuffle=True,callbacks=callbacks_list,verbose=1)"
   ]
  },
  {
   "cell_type": "code",
   "execution_count": 19,
   "metadata": {},
   "outputs": [
    {
     "data": {
      "image/png": "[encoded data removed]",
      "text/plain": [
       "<Figure size 432x288 with 1 Axes>"
      ]
     },
     "metadata": {
      "needs_background": "light"
     },
     "output_type": "display_data"
    }
   ],
   "source": [
    "# Plot training & validation accuracy values\n",
    "plt.plot(history.history['acc'])\n",
    "plt.plot(history.history['val_acc'])\n",
    "plt.title('Model accuracy')\n",
    "plt.ylabel('Accuracy')\n",
    "plt.xlabel('Epoch')\n",
    "plt.legend(['Train', 'Test'], loc='upper left')\n",
    "plt.show()"
   ]
  },
  {
   "cell_type": "code",
   "execution_count": 20,
   "metadata": {},
   "outputs": [
    {
     "data": {
      "image/png": "[encoded data removed]",
      "text/plain": [
       "<Figure size 432x288 with 1 Axes>"
      ]
     },
     "metadata": {
      "needs_background": "light"
     },
     "output_type": "display_data"
    }
   ],
   "source": [
    "# Plot training & validation loss values\n",
    "plt.plot(history.history['loss'])\n",
    "plt.plot(history.history['val_loss'])\n",
    "plt.title('Model loss')\n",
    "plt.ylabel('Loss')\n",
    "plt.xlabel('Epoch')\n",
    "plt.legend(['Train', 'Test'], loc='upper left')\n",
    "plt.show()"
   ]
  },
  {
   "cell_type": "code",
   "execution_count": 47,
   "metadata": {},
   "outputs": [
    {
     "name": "stdout",
     "output_type": "stream",
     "text": [
      "Epoch 1/10\n",
      "1892/1892 [==============================] - 198s 104ms/step - loss: 1.8876 - acc: 0.2833 - val_loss: 11.7042 - val_acc: 0.1045\n",
      "\n",
      "Epoch 00001: saving model to weights/weights-improvement-01-0.10.hdf5\n",
      "Epoch 2/10\n",
      "1892/1892 [==============================] - 190s 101ms/step - loss: 0.9869 - acc: 0.6557 - val_loss: 3.2385 - val_acc: 0.5321\n",
      "\n",
      "Epoch 00002: saving model to weights/weights-improvement-02-0.53.hdf5\n",
      "Epoch 3/10\n",
      "1892/1892 [==============================] - 191s 101ms/step - loss: 0.5283 - acc: 0.8280 - val_loss: 0.3522 - val_acc: 0.8828\n",
      "\n",
      "Epoch 00003: saving model to weights/weights-improvement-03-0.88.hdf5\n",
      "Epoch 4/10\n",
      "1892/1892 [==============================] - 191s 101ms/step - loss: 0.3495 - acc: 0.8927 - val_loss: 0.6863 - val_acc: 0.7881\n",
      "\n",
      "Epoch 00004: saving model to weights/weights-improvement-04-0.79.hdf5\n",
      "Epoch 5/10\n",
      "1892/1892 [==============================] - 191s 101ms/step - loss: 0.2636 - acc: 0.9162 - val_loss: 3.7251 - val_acc: 0.5470\n",
      "\n",
      "Epoch 00005: saving model to weights/weights-improvement-05-0.55.hdf5\n",
      "Epoch 6/10\n",
      "1892/1892 [==============================] - 190s 100ms/step - loss: 0.2118 - acc: 0.9339 - val_loss: 0.4582 - val_acc: 0.8657\n",
      "\n",
      "Epoch 00006: saving model to weights/weights-improvement-06-0.87.hdf5\n",
      "Epoch 7/10\n",
      "1892/1892 [==============================] - 190s 101ms/step - loss: 0.1673 - acc: 0.9489 - val_loss: 12.8163 - val_acc: 0.1201\n",
      "\n",
      "Epoch 00007: saving model to weights/weights-improvement-07-0.12.hdf5\n",
      "Epoch 8/10\n",
      "1892/1892 [==============================] - 195s 103ms/step - loss: 0.1317 - acc: 0.9597 - val_loss: 2.8673 - val_acc: 0.7396\n",
      "\n",
      "Epoch 00008: saving model to weights/weights-improvement-08-0.74.hdf5\n",
      "Epoch 9/10\n",
      "1892/1892 [==============================] - 194s 102ms/step - loss: 0.1030 - acc: 0.9699 - val_loss: 1.0018 - val_acc: 0.8627\n",
      "\n",
      "Epoch 00009: saving model to weights/weights-improvement-09-0.86.hdf5\n",
      "Epoch 10/10\n",
      "1892/1892 [==============================] - 195s 103ms/step - loss: 0.0975 - acc: 0.9719 - val_loss: 0.1022 - val_acc: 0.9634\n",
      "\n",
      "Epoch 00010: saving model to weights/weights-improvement-10-0.96.hdf5\n"
     ]
    }
   ],
   "source": [
    "model = keras.applications.mobilenet.MobileNet(include_top=True, input_shape = (img_height,img_width,1), weights=None,classes = num_classes)\n",
    "# model = keras.applications.xception.Xception(include_top=True, input_shape = (img_height,img_width,3), weights=None,classes = num_classes)\n",
    "adadelta = keras.optimizers.Adadelta(lr=0.01, rho=0.95, epsilon=None, decay=0.0)\n",
    "model.compile(loss=keras.losses.categorical_crossentropy,\n",
    "              optimizer='Adam',\n",
    "              metrics=['accuracy'])\n",
    "# model.summary()\n",
    "epochs = 10\n",
    "#model = keras.applications.mobilenet.MobileNet(include_top=True, input_shape = (img_height,img_width,1), weights=None,classes = num_classes)\n",
    "#model.compile(loss=keras.losses.categorical_crossentropy,optimizer='Adam',metrics=['accuracy'])\n",
    "history = model.fit_generator(train_generator,\n",
    "                    steps_per_epoch=nb_train_samples // batch_size, epochs=epochs, validation_data = validation_generator,validation_steps=nb_validation_samples // batch_size,shuffle=True,callbacks=callbacks_list,verbose=1)"
   ]
  },
  {
   "cell_type": "code",
   "execution_count": 48,
   "metadata": {},
   "outputs": [
    {
     "data": {
      "image/png": "[encoded data removed]",
      "text/plain": [
       "<Figure size 432x288 with 1 Axes>"
      ]
     },
     "metadata": {
      "needs_background": "light"
     },
     "output_type": "display_data"
    }
   ],
   "source": [
    "# Plot training & validation accuracy values\n",
    "plt.plot(history.history['acc'])\n",
    "plt.plot(history.history['val_acc'])\n",
    "plt.title('Model accuracy')\n",
    "plt.ylabel('Accuracy')\n",
    "plt.xlabel('Epoch')\n",
    "plt.legend(['Train', 'Test'], loc='upper left')\n",
    "plt.show()"
   ]
  },
  {
   "cell_type": "code",
   "execution_count": 49,
   "metadata": {},
   "outputs": [
    {
     "data": {
      "image/png": "[encoded data removed]",
      "text/plain": [
       "<Figure size 432x288 with 1 Axes>"
      ]
     },
     "metadata": {
      "needs_background": "light"
     },
     "output_type": "display_data"
    }
   ],
   "source": [
    "# Plot training & validation loss values\n",
    "plt.plot(history.history['loss'])\n",
    "plt.plot(history.history['val_loss'])\n",
    "plt.title('Model loss')\n",
    "plt.ylabel('Loss')\n",
    "plt.xlabel('Epoch')\n",
    "plt.legend(['Train', 'Test'], loc='upper left')\n",
    "plt.show()"
   ]
  },
  {
   "cell_type": "code",
   "execution_count": null,
   "metadata": {},
   "outputs": [],
   "source": [
    "import matplotlib.pyplot as plt\n",
    "print(history.history.keys())\n",
    "# summarize history for accuracy\n",
    "plt.plot(history.history['acc'])\n",
    "plt.plot(history.history['val_acc'])\n",
    "plt.title('model accuracy')\n",
    "plt.ylabel('accuracy')\n",
    "plt.xlabel('epoch')\n",
    "plt.legend(['train', 'test'], loc='upper left')\n",
    "plt.show()\n",
    "# summarize history for loss\n",
    "plt.plot(history.history['loss'])\n",
    "plt.plot(history.history['val_loss'])\n",
    "plt.title('model loss')\n",
    "plt.ylabel('loss')\n",
    "plt.xlabel('epoch')\n",
    "plt.legend(['train', 'test'], loc='upper left')\n",
    "plt.show()"
   ]
  },
  {
   "cell_type": "code",
   "execution_count": null,
   "metadata": {},
   "outputs": [],
   "source": [
    "model = load_model('model_v3.h5')"
   ]
  },
  {
   "cell_type": "code",
   "execution_count": 22,
   "metadata": {},
   "outputs": [
    {
     "data": {
      "text/plain": [
       "(64, 512, 1)"
      ]
     },
     "execution_count": 22,
     "metadata": {},
     "output_type": "execute_result"
    }
   ],
   "source": [
    "(img_height,img_width,1)"
   ]
  },
  {
   "cell_type": "code",
   "execution_count": 46,
   "metadata": {},
   "outputs": [],
   "source": [
    "cap = cv2.VideoCapture(0)\n",
    "\n",
    "while(True):\n",
    "    # Capture frame-by-frame\n",
    "    ret, frame = cap.read()\n",
    "    # Our operations on the frame come here\n",
    "    gray = cv2.cvtColor(frame, cv2.COLOR_BGR2GRAY)\n",
    "    th = cv2.threshold(gray,0,255,cv2.THRESH_BINARY+cv2.THRESH_OTSU)[1]\n",
    "    \n",
    "    rrec = cv2.rectangle(frame,(100,100),(612,164),(255,255,255,5))\n",
    "    \n",
    "    # Display the resulting frame\n",
    "   # cv2.imshow('frame',gray)\n",
    "\n",
    "    #rrec_frame = ('rrec',gray_rrec)\n",
    "    \n",
    "    \n",
    "    crop_cap = th[100:164,100:612]\n",
    "    text = recognition(crop_cap)\n",
    "    cv2.putText(rrec,text,(50,50), cv2.FONT_HERSHEY_SIMPLEX, 1,(0,0,255),1,cv2.LINE_AA)\n",
    "    cv2.imshow('test_image',rrec)\n",
    "    cv2.imshow('crop_image',crop_cap)\n",
    "    \n",
    "    #print(resized_img.shape)\n",
    "   \n",
    "    #img_path = cap\n",
    "\n",
    "    #img = \n",
    "    #img = img.reshape(1,28,28,1)\n",
    "    #img = img.astype('float32')\n",
    "    #img /= 255\n",
    "    \n",
    "    #preds = model.predict(img)\n",
    "\n",
    "    #labels = [0,1,2,3,4,5,6,7,8,9]\n",
    "    #ind = preds[0].argmax()\n",
    "    #print(\"Ответ : \",labels[ind], \", точность :\", round(preds[0][ind]*100,2),\"%\" )\n",
    "    \n",
    "    if cv2.waitKey(1) & 0xFF == ord('q'):\n",
    "        break\n",
    "        \n",
    "    \n",
    "\n",
    "# When everything done, release the capture\n",
    "cap.release()\n",
    "cv2.destroyAllWindows()"
   ]
  },
  {
   "cell_type": "code",
   "execution_count": 43,
   "metadata": {},
   "outputs": [],
   "source": [
    "def recognition(img):\n",
    "    # resized_img = cv2.resize(img, (28, 28)) \n",
    "    resized_img = img.copy()\n",
    "    img = resized_img.reshape(1,64,512,1)\n",
    "    img = img.astype('float32')\n",
    "    img /= 255\n",
    "    preds = model.predict(img)\n",
    "    labels = [0,1,2,3,4,5,6,7,8,9]\n",
    "    ind = preds[0].argmax()\n",
    "    #print(\"Ответ : \",labels[ind], \", точность :\", round(preds[0][ind]*100,2),\"%\" )\n",
    "    acc = round(preds[0][ind]*100,2)\n",
    "    if acc > 75:\n",
    "        res = \"\"+str(labels[ind])+\", \"+str(acc) +\"%\"\n",
    "    else:\n",
    "        res= \"0, 0%\"\n",
    "    return res"
   ]
  },
  {
   "cell_type": "code",
   "execution_count": 34,
   "metadata": {},
   "outputs": [
    {
     "data": {
      "text/plain": [
       "'8, 99.95%'"
      ]
     },
     "execution_count": 34,
     "metadata": {},
     "output_type": "execute_result"
    }
   ],
   "source": [
    "img = cv2.imread(\"8.jpg\",0)\n",
    "recognition(img)"
   ]
  },
  {
   "cell_type": "code",
   "execution_count": null,
   "metadata": {},
   "outputs": [],
   "source": [
    "import glob, os, cv2\n",
    "import random"
   ]
  },
  {
   "cell_type": "code",
   "execution_count": null,
   "metadata": {},
   "outputs": [],
   "source": [
    "# чтение из оригинального датасета и сохранение по классам с рандомными именами\n",
    "for full_path in glob.glob(\"2019_dataset/*.jpg\"):\n",
    "    file = os.path.basename(full_path)\n",
    "    c = file[:file.index('_')]\n",
    "    img = cv2.imread(full_path,0)\n",
    "    directory = \"classes/\"+c+\"/\"\n",
    "    if not os.path.exists(directory):\n",
    "        os.makedirs(directory)\n",
    "    cv2.imwrite(directory+str(random.randint(100000,999999))+\".jpg\",img)"
   ]
  },
  {
   "cell_type": "code",
   "execution_count": null,
   "metadata": {},
   "outputs": [],
   "source": [
    "# чтение из разделенного датасета по классам и разделение на train И test\n",
    "test = 0.2\n",
    "for c in range(0,42):\n",
    "    class_dir = os.path.join(\"classes\",str(c))\n",
    "    all_files = glob.glob(class_dir+\"/*.jpg\")\n",
    "    train_number = int(len(all_files)*(1-test))\n",
    "    for j, full_path in enumerate(all_files):\n",
    "        file = os.path.basename(full_path)\n",
    "        img = cv2.imread(full_path,0)\n",
    "        if j<=train_number:\n",
    "            directory = \"train/\"+str(c)+\"/\"\n",
    "        else:\n",
    "            directory = \"test/\"+str(c)+\"/\"\n",
    "        if not os.path.exists(directory):\n",
    "            os.makedirs(directory)\n",
    "        cv2.imwrite(directory+file,img)"
   ]
  },
  {
   "cell_type": "code",
   "execution_count": null,
   "metadata": {},
   "outputs": [],
   "source": [
    "import cv2\n",
    "import numpy as np\n",
    "import os, glob"
   ]
  },
  {
   "cell_type": "code",
   "execution_count": null,
   "metadata": {},
   "outputs": [],
   "source": [
    "img = cv2.imread(\"test/0/831580.jpg\",0)\n",
    "img.shape"
   ]
  },
  {
   "cell_type": "code",
   "execution_count": null,
   "metadata": {},
   "outputs": [],
   "source": [
    "#img = cv2.imread(\"test/0/831580.jpg\",0)\n",
    "def preproc_img(img):\n",
    "    img = cv2.resize(img, (730, 100)) \n",
    "    #th = cv2.adaptiveThreshold(img,255,cv2.ADAPTIVE_THRESH_GAUSSIAN_C,cv2.THRESH_BINARY,11,2)\n",
    "    th = cv2.threshold(img,0,255,cv2.THRESH_BINARY+cv2.THRESH_OTSU)[1]\n",
    "    hist = np.average(th,axis=0)\n",
    "    rb = img.shape[1]\n",
    "    for i in range(len(hist)-1, 3, -1):\n",
    "        h=hist[i]\n",
    "        if hist[i]>252 or hist[i-1]>252 or hist[i-2]>252 :\n",
    "            rb = i\n",
    "        else:\n",
    "            break\n",
    "    crop_img = th[:,:rb]\n",
    "    new_img = np.ones((730,730),dtype=np.uint8)*255\n",
    "    H,W = new_img.shape\n",
    "    h,w = crop_img.shape\n",
    "    #print(H,W,h,w)\n",
    "    new_img[int((H-h)/2):int((H-h)/2)+h,int((W-w)/2):int((W-w)/2)+w] = crop_img\n",
    "    #cv2.imwrite(\"new_img.jpg\",new_img)\n",
    "    return new_img\n",
    "\n",
    "#img = cv2.imread(\"test/0/831580.jpg\",0)\n",
    "def preproc_img2(img):\n",
    "    img = cv2.resize(img, (730, 100)) \n",
    "    #th = cv2.adaptiveThreshold(img,255,cv2.ADAPTIVE_THRESH_GAUSSIAN_C,cv2.THRESH_BINARY,11,2)\n",
    "    gray = cv2.cvtColor(img,cv2.COLOR_BGR2GRAY)\n",
    "    th = cv2.threshold(gray,0,255,cv2.THRESH_BINARY+cv2.THRESH_OTSU)[1]\n",
    "    hist = np.average(th,axis=0)\n",
    "    rb = img.shape[1]\n",
    "    lb = 0\n",
    "    for i in range(len(hist)-1, 3, -1):\n",
    "        if hist[i]>252 or hist[i-1]>252 or hist[i-2]>252 :\n",
    "            rb = i\n",
    "        else:\n",
    "            break\n",
    "    for i in range(0, len(hist)-3):\n",
    "        if hist[i]>252 or hist[i+1]>252 or hist[i+2]>252 :\n",
    "            lb = i\n",
    "        else:\n",
    "            break\n",
    "    crop_img = img[:,lb:rb,:]\n",
    "    new_img = cv2.resize(crop_img, (256,256))\n",
    "    return new_img"
   ]
  },
  {
   "cell_type": "code",
   "execution_count": null,
   "metadata": {},
   "outputs": [],
   "source": [
    "cv2.imshow(\"a\",th)\n",
    "cv2.waitKey(0)\n",
    "cv2.destroyAllWindows()"
   ]
  },
  {
   "cell_type": "code",
   "execution_count": null,
   "metadata": {},
   "outputs": [],
   "source": [
    "cv2.destroyAllWindows()"
   ]
  },
  {
   "cell_type": "code",
   "execution_count": null,
   "metadata": {},
   "outputs": [],
   "source": [
    "# чтение из train И test, сохранение в train2,test2 (квадратные картинки)\n",
    "dataset = \"train\"\n",
    "for c in range(0,42):\n",
    "    class_dir = os.path.join(dataset,str(c))\n",
    "    all_files = glob.glob(class_dir+\"/*.jpg\")\n",
    "    for j, full_path in enumerate(all_files):\n",
    "        file = os.path.basename(full_path)\n",
    "        img = cv2.imread(full_path)\n",
    "        new_img = preproc_img2(img)\n",
    "        # cv2.imshow(\"test\",new_img)\n",
    "        # cv2.waitKey(0)\n",
    "        # cv2.destroyAllWindows()\n",
    "        # break\n",
    "        directory = dataset+\"3/\"+str(c)+\"/\"\n",
    "        if not os.path.exists(directory):\n",
    "            os.makedirs(directory)\n",
    "        cv2.imwrite(directory+file,new_img)"
   ]
  }
 ],
 "metadata": {
  "kernelspec": {
   "display_name": "Python 3",
   "language": "python",
   "name": "python3"
  },
  "language_info": {
   "codemirror_mode": {
    "name": "ipython",
    "version": 3
   },
   "file_extension": ".py",
   "mimetype": "text/x-python",
   "name": "python",
   "nbconvert_exporter": "python",
   "pygments_lexer": "ipython3",
   "version": "3.6.7"
  }
 },
 "nbformat": 4,
 "nbformat_minor": 2
}
